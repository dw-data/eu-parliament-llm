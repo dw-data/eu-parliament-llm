{
 "cells": [
  {
   "cell_type": "code",
   "execution_count": 1,
   "id": "e920e39c",
   "metadata": {},
   "outputs": [],
   "source": [
    "#### Analysis focusing on the non-EU countries\n",
    "#### and non-big players – that is, no Russia, Ukraine, China, US"
   ]
  },
  {
   "cell_type": "code",
   "execution_count": 2,
   "id": "085aa41e",
   "metadata": {},
   "outputs": [],
   "source": [
    "import pandas as pd\n",
    "import pycountry"
   ]
  },
  {
   "cell_type": "code",
   "execution_count": 3,
   "id": "bedf08cc",
   "metadata": {},
   "outputs": [],
   "source": [
    "# Data\n",
    "df = pd.read_feather(\"../../output/for-analysis.feather\")"
   ]
  },
  {
   "cell_type": "code",
   "execution_count": 4,
   "id": "21d2f72f",
   "metadata": {},
   "outputs": [],
   "source": [
    "# EU members plus USA, China, Russia, Ukraine\n",
    "big_players = [ \"RUS\", \"UKR\", \"USA\", \"CHN\" ]\n",
    "\n",
    "eu_members = [\n",
    "    \"AUT\", \"BEL\", \"BGR\", \"HRV\", \"CYP\", \"CZE\", \"DNK\", \"EST\", \"FIN\", \"FRA\", \n",
    "    \"DEU\", \"GRC\", \"HUN\", \"IRL\", \"ITA\", \"LVA\", \"LTU\", \"LUX\", \"MLT\", \"NLD\", \n",
    "    \"POL\", \"PRT\", \"ROU\", \"SVK\", \"SVN\", \"ESP\", \"SWE\",    \n",
    "]"
   ]
  },
  {
   "cell_type": "code",
   "execution_count": 5,
   "id": "4b9ee686",
   "metadata": {},
   "outputs": [],
   "source": [
    "# All others (non-eu + non-big players)\n",
    "all_others = [ item for item in df.columns.tolist()[17:] if item not in big_players and item not in eu_members ]\n",
    "\n",
    "# All non-eu members\n",
    "non_eu = [ item for item in df.columns.tolist()[17:] if item not in eu_members ]"
   ]
  },
  {
   "cell_type": "code",
   "execution_count": 8,
   "id": "332d5c03",
   "metadata": {},
   "outputs": [
    {
     "data": {
      "text/plain": [
       "UKR    5510\n",
       "RUS    4366\n",
       "CHN    2574\n",
       "POL    2420\n",
       "FRA    1896\n",
       "HUN    1831\n",
       "DEU    1662\n",
       "ESP    1546\n",
       "USA    1533\n",
       "ITA    1515\n",
       "TUR    1510\n",
       "GRC    1136\n",
       "ROU    1045\n",
       "IRL     948\n",
       "IRN     850\n",
       "BGR     784\n",
       "BLR     754\n",
       "SYR     695\n",
       "GBR     669\n",
       "SWE     622\n",
       "PRT     588\n",
       "MDA     563\n",
       "AFG     550\n",
       "NLD     489\n",
       "MLT     487\n",
       "HRV     458\n",
       "BEL     454\n",
       "IND     450\n",
       "LBY     430\n",
       "THA     407\n",
       "GEO     401\n",
       "SVK     392\n",
       "AZE     377\n",
       "AUT     360\n",
       "VEN     354\n",
       "PSE     344\n",
       "CYP     324\n",
       "SRB     321\n",
       "LTU     307\n",
       "MKD     298\n",
       "IRQ     293\n",
       "FIN     291\n",
       "MLI     287\n",
       "BRA     284\n",
       "ARM     283\n",
       "ALB     279\n",
       "DNK     278\n",
       "QAT     275\n",
       "TUN     257\n",
       "SVN     256\n",
       "dtype: int64"
      ]
     },
     "execution_count": 8,
     "metadata": {},
     "output_type": "execute_result"
    }
   ],
   "source": [
    "df[big_players + eu_members + non_eu].sum().drop_duplicates().sort_values(ascending=False).head(50)"
   ]
  },
  {
   "cell_type": "code",
   "execution_count": null,
   "id": "4cffc13f",
   "metadata": {},
   "outputs": [],
   "source": [
    "# Countries with the most mentions among all others\n",
    "df[all_others].sum().sort_values(ascending=False).head(50)"
   ]
  },
  {
   "cell_type": "code",
   "execution_count": null,
   "id": "08c8c6ed",
   "metadata": {},
   "outputs": [],
   "source": [
    "# Same, but by share of total speeches\n",
    "(df[all_others].sum().sort_values(ascending=False) / df.shape[0] * 100)"
   ]
  },
  {
   "cell_type": "code",
   "execution_count": null,
   "id": "a339dc79",
   "metadata": {},
   "outputs": [],
   "source": [
    "# Eu: how much of total?\n",
    "df[eu_members].sum().sum() / df.shape[0] * 100"
   ]
  },
  {
   "cell_type": "code",
   "execution_count": null,
   "id": "074b0d09",
   "metadata": {},
   "outputs": [],
   "source": [
    "# Non eu: how much of total?\n",
    "df[non_eu].sum().sum() / df.shape[0] * 100"
   ]
  },
  {
   "cell_type": "code",
   "execution_count": null,
   "id": "489eecc2",
   "metadata": {},
   "outputs": [],
   "source": [
    "# Big-players: how much of total?\n",
    "df[big_players].sum().sum() / df.shape[0] * 100"
   ]
  },
  {
   "cell_type": "code",
   "execution_count": null,
   "id": "4d45d456",
   "metadata": {},
   "outputs": [],
   "source": [
    "# Russia and Ukraine, how much of total?\n",
    "df[['RUS', 'UKR']].sum().sum() / df.shape[0] * 100"
   ]
  },
  {
   "cell_type": "code",
   "execution_count": null,
   "id": "9111f017",
   "metadata": {},
   "outputs": [],
   "source": [
    "# Usa and China, how much of total?\n",
    "df[['USA', 'CHN']].sum().sum() / df.shape[0] * 100"
   ]
  },
  {
   "cell_type": "code",
   "execution_count": null,
   "id": "aa1711ad",
   "metadata": {},
   "outputs": [],
   "source": [
    "# China, how much of total?\n",
    "df[['CHN']].sum().sum() / df.shape[0] * 100"
   ]
  },
  {
   "cell_type": "code",
   "execution_count": null,
   "id": "ced678ae",
   "metadata": {},
   "outputs": [],
   "source": [
    "# I knew that Thailand was full of false positives before. Is this still the case?\n",
    "for index, row in df[df.THA].iterrows():\n",
    "    print(row.language)\n",
    "    print(row.valid_tags)\n",
    "    print(row.speech)"
   ]
  },
  {
   "cell_type": "code",
   "execution_count": null,
   "id": "7b7dfffb",
   "metadata": {},
   "outputs": [],
   "source": [
    "# It's a common language in Baltic languages.\n",
    "# If we exclude them from the count, it's not in the top 10\n",
    "# We will not mention it on the story.\n",
    "df[df.THA].language.value_counts()"
   ]
  },
  {
   "cell_type": "code",
   "execution_count": null,
   "id": "83b24bfa",
   "metadata": {},
   "outputs": [],
   "source": [
    "# India has a similar issue with the word 'indien', a common dutch term.\n",
    "# However, it still stays high on top if we ignore the language.\n",
    "df[df.IND].language.value_counts()"
   ]
  },
  {
   "cell_type": "code",
   "execution_count": null,
   "id": "3b095c31",
   "metadata": {},
   "outputs": [],
   "source": [
    "# Manual inspection of samples of all other highlights gave us no clear indication of any other event like this."
   ]
  },
  {
   "cell_type": "code",
   "execution_count": null,
   "id": "2e36f5b1",
   "metadata": {},
   "outputs": [],
   "source": [
    "# Total share of speeches that touch on each topic\n",
    "df[df.columns[8:17]].mean()"
   ]
  },
  {
   "cell_type": "code",
   "execution_count": null,
   "id": "5bab624d",
   "metadata": {},
   "outputs": [],
   "source": [
    "### Manually inspecting a share of each country-topic pair of interest"
   ]
  },
  {
   "cell_type": "code",
   "execution_count": null,
   "id": "02e706d5",
   "metadata": {},
   "outputs": [],
   "source": [
    "#### UK\n",
    "for index, row in df[(df.GBR) & (df['International Relations and Diplomacy'])].head(10).sample(frac=1).iterrows():\n",
    "    print(row.language)\n",
    "    print(row.valid_tags)\n",
    "    print(row.speech)"
   ]
  },
  {
   "cell_type": "code",
   "execution_count": null,
   "id": "44007568",
   "metadata": {
    "scrolled": true
   },
   "outputs": [],
   "source": [
    "# India and Economy\n",
    "for index, row in df[(df.IND) & (df['Economy, Finance and Infrastructure'])].sample(frac=1).head(10).iterrows():\n",
    "    print(row.language)\n",
    "    print(row.valid_tags)\n",
    "    print(row.speech)\n",
    "    print()"
   ]
  },
  {
   "cell_type": "code",
   "execution_count": null,
   "id": "55921acd",
   "metadata": {},
   "outputs": [],
   "source": [
    "df[(df.IND) & (df['Environment and Climate'])]"
   ]
  },
  {
   "cell_type": "code",
   "execution_count": null,
   "id": "2c132c61",
   "metadata": {
    "scrolled": true
   },
   "outputs": [],
   "source": [
    "# India and Economy\n",
    "for index, row in df[(df.IND) & (df['Environment and Climate'])].sample(frac=1).head(10).iterrows():\n",
    "    print(row.language)\n",
    "    print(row.valid_tags)\n",
    "    print(row.speech)\n",
    "    print()"
   ]
  },
  {
   "cell_type": "markdown",
   "id": "a2286cbc",
   "metadata": {},
   "source": [
    "#### Exporting data for charts"
   ]
  },
  {
   "cell_type": "code",
   "execution_count": null,
   "id": "c5389030",
   "metadata": {},
   "outputs": [],
   "source": [
    "# Export for bar chart:\n",
    "# Non-EU countries\n",
    "def make_bar_chart(df, non_eu, eu_members):\n",
    "    \n",
    "    def get_country(iso3):\n",
    "        if iso3 == 'IRN':\n",
    "            country_name = 'Iran'\n",
    "\n",
    "        elif iso3 == 'RUS':\n",
    "            country_name = 'Russia'\n",
    "\n",
    "        elif iso3 == 'SYR':\n",
    "            country_name = 'Syria'\n",
    "\n",
    "        elif iso3 == 'COD':\n",
    "            country_name = 'DR Congo'\n",
    "\n",
    "        elif iso3 == 'TUR':\n",
    "            country_name = 'Turkey'\n",
    "            \n",
    "        elif iso3 == 'MDA':\n",
    "            country_name = 'Moldova'\n",
    "        \n",
    "        else:\n",
    "            country_name = pycountry.countries.get(alpha_3=iso3).name\n",
    "            \n",
    "        return country_name\n",
    "    \n",
    "    \n",
    "    def get_iso2(iso3):\n",
    "        return pycountry.countries.get(alpha_3=iso3).alpha_2.lower()\n",
    "\n",
    "    data = df[non_eu].sum().sort_values(ascending=False).head(14).reset_index().rename(columns={'index':'iso3',\n",
    "                                                                                                 0: 'count'})\n",
    "    \n",
    "    data['percentage'] = data['count'] / df.shape[0] * 100\n",
    "    data['country'] = data.iso3.apply(get_country)\n",
    "    data['iso2'] = data.iso3.apply(get_iso2)\n",
    "    data['display_name'] = \":\" + data.iso2 + \":\" + \" \" + data.country\n",
    "    \n",
    "    return data"
   ]
  },
  {
   "cell_type": "code",
   "execution_count": null,
   "id": "69cc187b",
   "metadata": {},
   "outputs": [],
   "source": [
    "make_bar_chart(df, non_eu, eu_members).to_csv(\"../../viz-files/non-eu-ranking.csv\", index=False)"
   ]
  },
  {
   "cell_type": "markdown",
   "id": "38ad05e0",
   "metadata": {},
   "source": [
    "#### Countries + big topics"
   ]
  },
  {
   "cell_type": "code",
   "execution_count": null,
   "id": "2a532d99",
   "metadata": {},
   "outputs": [],
   "source": [
    "# of_interest = df[all_others].sum().sort_values(ascending=False).head(10).index\n",
    "# topics = df.columns[9:17].tolist()\n",
    "\n",
    "# rows = []\n",
    "# for country in of_interest:\n",
    "    \n",
    "        \n",
    "#     subset = df[df[country]]\n",
    "#     print(country)\n",
    "    \n",
    "#     if country == 'IRN':\n",
    "#         #print('yoyo')\n",
    "#         country_name = 'Iran'\n",
    "        \n",
    "#     elif country == 'RUS':\n",
    "#         #print('yoyo')\n",
    "#         country_name = 'Russia'\n",
    "        \n",
    "#     elif country == 'SYR':\n",
    "#         #print('yoyo')\n",
    "#         country_name = 'Syria'\n",
    "        \n",
    "#     elif country == 'COD':\n",
    "#         #print('yoyo')\n",
    "#         country_name = 'DR Congo'\n",
    "        \n",
    "#     elif country == 'TUR':\n",
    "#         #print('yoyo')\n",
    "#         country_name = 'Turkey'\n",
    "        \n",
    "#     elif country == 'MDA':\n",
    "#         country_name = 'Moldova'\n",
    "        \n",
    "        \n",
    "#     else:\n",
    "#         country_name = pycountry.countries.get(alpha_3=country).name\n",
    "        \n",
    "#     print(country_name)\n",
    "    \n",
    "#     for topic in topics:\n",
    "#         row = {}\n",
    "        \n",
    "#         # % about the issue\n",
    "#         share = subset[topic].sum() / subset.shape[0] * 100\n",
    "#         row['iso3'] = country\n",
    "#         row['iso2'] = pycountry.countries.get(alpha_3=country).alpha_2\n",
    "#         row['country'] = f\":{row['iso2'].lower()}: {country_name}\"\n",
    "#         row['value_country'] = share\n",
    "# #         row['% of all speeches that menion the topic'] = df[topic].sum() / df.shape[0] * 100\n",
    "#         #row['value_total'] = df[topic].sum() / df.shape[0] * 100\n",
    "#         row['topic'] = topic.lower()\n",
    "#         row['label'] = f\"Of all speeches that mention ___, how many are about {topic.lower()}?\"\n",
    "#         row['count_speeches'] = subset.shape[0]\n",
    "        \n",
    "#         rows.append(row)\n",
    "        \n",
    "# # Adds the overall value for all speeches\n",
    "# for topic in topics:\n",
    "#     row = {}\n",
    "#     row['iso3'] = 'ALL'\n",
    "#     row['country'] = 'All speeches'\n",
    "#     row['topic'] = topic.lower()\n",
    "#     row['label'] = f\"Of all speeches that mention ___, how many are about {topic.lower()}?\"\n",
    "#     row['value_country'] = df[topic].sum() / df.shape[0] * 100\n",
    "#     row['count_speeches'] = df.shape[0]\n",
    "#     rows.append(row)"
   ]
  },
  {
   "cell_type": "code",
   "execution_count": null,
   "id": "e28bd002",
   "metadata": {},
   "outputs": [],
   "source": [
    "# topics_countries = pd.DataFrame(rows)"
   ]
  },
  {
   "cell_type": "code",
   "execution_count": null,
   "id": "ee9c099e",
   "metadata": {},
   "outputs": [],
   "source": [
    "# for topic ain topics:\n",
    "#     subset = topics_countries[topics_countries['topic']==topic.lower()]\n",
    "#     subset.to_csv(f\"../../viz-files/{ topic }-of-interest-bars.csv\", index=False)"
   ]
  },
  {
   "cell_type": "markdown",
   "id": "fd9170ae",
   "metadata": {},
   "source": [
    "#### By continent, with EU and non-EU split"
   ]
  },
  {
   "cell_type": "code",
   "execution_count": null,
   "id": "1655b32b",
   "metadata": {},
   "outputs": [],
   "source": [
    "# Simple resampler for plotting data over time, using a 2 month window\n",
    "def resampler(df, window='2M', agg='mean'):\n",
    "\n",
    "    # Ensure the 'date' column is in datetime format\n",
    "    df['date'] = pd.to_datetime(df['date'])\n",
    "\n",
    "    # Set the 'date' column as the index\n",
    "    df = df.set_index('date')\n",
    "\n",
    "    # Resample the dataframe to three-month intervals and calculate the share of True values (the mean works\n",
    "    # because a True is counted as 1 and a False as 0). Summing all the 1s and dividing by total observations\n",
    "    # equals to a percentage of total.\n",
    "    if agg == 'mean':\n",
    "        df = df.resample(window).agg(agg) * 100\n",
    "    else:\n",
    "        df = df.resample(window).agg(agg)\n",
    "        \n",
    "    # Custom date format function\n",
    "    def custom_date_format(index):\n",
    "        \n",
    "        formatted_dates = []\n",
    "        \n",
    "        for date in index:\n",
    "            \n",
    "            start_date = date - pd.DateOffset(months=1)\n",
    "            end_date = date\n",
    "            formatted_dates.append(f\"{start_date.strftime('%B %Y')} to {end_date.strftime('%B %Y')}\")\n",
    "            \n",
    "        return formatted_dates\n",
    "        \n",
    "    # Adds a human readable tag for the datawrapper legend\n",
    "    df['span'] = custom_date_format(df.index)\n",
    "    \n",
    "#     df.iloc[0, 'span'] = 'July 2019'\n",
    "#     df.iloc[-1, 'span'] = 'April 2024'\n",
    "    \n",
    "    return df"
   ]
  },
  {
   "cell_type": "code",
   "execution_count": null,
   "id": "a8dd498d",
   "metadata": {},
   "outputs": [],
   "source": [
    "# Continental overview – ISO3 to continent\n",
    "correspondence = pd.read_csv(\"../../input/country-and-continent-codes-list.csv\", sep=';')"
   ]
  },
  {
   "cell_type": "code",
   "execution_count": null,
   "id": "85328ddb",
   "metadata": {},
   "outputs": [],
   "source": [
    "# Keep only the iso codes that exist in the columns\n",
    "correspondence = correspondence[correspondence['ISO-alpha3 code'].isin(df.columns)]"
   ]
  },
  {
   "cell_type": "code",
   "execution_count": null,
   "id": "1e0b766c",
   "metadata": {},
   "outputs": [],
   "source": [
    "# A dict with the matches\n",
    "continent_iso_map = correspondence.groupby('continent')['ISO-alpha3 code'].apply(list).to_dict()"
   ]
  },
  {
   "cell_type": "code",
   "execution_count": null,
   "id": "71979a47",
   "metadata": {},
   "outputs": [],
   "source": [
    "continent_iso_map['European Union'] = eu_members"
   ]
  },
  {
   "cell_type": "code",
   "execution_count": null,
   "id": "23dbbc1a",
   "metadata": {},
   "outputs": [],
   "source": [
    "continent_iso_map['Europe, non-EU'] = [ country for country in continent_iso_map['Europe'] if country not in eu_members]"
   ]
  },
  {
   "cell_type": "code",
   "execution_count": null,
   "id": "7d15150f",
   "metadata": {},
   "outputs": [],
   "source": [
    "# Adds a column to check whether any country in the continent was mentioned\n",
    "for continent, countries in continent_iso_map.items():\n",
    "    df[continent] = df[['date'] + countries].sum(axis=1) > 0"
   ]
  },
  {
   "cell_type": "code",
   "execution_count": null,
   "id": "1f9a4d2f",
   "metadata": {},
   "outputs": [],
   "source": [
    "resampler(df[['date', 'Africa', 'Americas', 'Asia', 'European Union', 'Europe, non-EU', 'Oceania']])"
   ]
  },
  {
   "cell_type": "code",
   "execution_count": null,
   "id": "13f7ebd3",
   "metadata": {},
   "outputs": [],
   "source": [
    "resampler(df[['date', 'Africa', 'Americas', 'Asia', 'European Union', 'Europe, non-EU', 'Oceania']])\\\n",
    "    .reset_index()\\\n",
    "    .to_csv(\"../../viz-files/continents_2m_mean_eu_split.csv\", index=False)"
   ]
  },
  {
   "cell_type": "markdown",
   "id": "b51aa1bf",
   "metadata": {},
   "source": [
    "#### Topics over time"
   ]
  },
  {
   "cell_type": "code",
   "execution_count": null,
   "id": "057383f6",
   "metadata": {},
   "outputs": [],
   "source": [
    "topics = df.columns[8:17].tolist()\n",
    "resampler(df[ ['date'] + topics]).to_csv(\"../../viz-files/all-topics-multiple-bars.csv\", index=False)"
   ]
  },
  {
   "cell_type": "markdown",
   "id": "85bfd3ad",
   "metadata": {},
   "source": [
    "#### Selected countries + sortable table"
   ]
  },
  {
   "cell_type": "code",
   "execution_count": null,
   "id": "3869cd59",
   "metadata": {},
   "outputs": [],
   "source": [
    "groups = ['Parliament issues and procedures',\n",
    " 'Democracy and Governance',\n",
    " 'War and Security',\n",
    " 'International Relations and Diplomacy',\n",
    " 'Economy, Finance and Infrastructure',\n",
    " 'Environment and Climate',\n",
    " 'Health',\n",
    " 'Technology and Innovation',\n",
    " 'Human Rights, Freedoms and Social Issues']"
   ]
  },
  {
   "cell_type": "code",
   "execution_count": null,
   "id": "0a31e225",
   "metadata": {},
   "outputs": [],
   "source": [
    "top_10 = df[all_others].sum().sort_values(ascending=False).head(10).index\n",
    "rows = []\n",
    "for country in top_10:\n",
    "    \n",
    "    row = {}\n",
    "    \n",
    "    subset = df[df[country]]\n",
    "    \n",
    "    if country == 'IRN':\n",
    "        country_name = 'Iran'\n",
    "\n",
    "    elif country == 'RUS':\n",
    "        country_name = 'Russia'\n",
    "\n",
    "    elif country == 'SYR':\n",
    "        country_name = 'Syria'\n",
    "\n",
    "    elif country == 'COD':\n",
    "        country_name = 'DR Congo'\n",
    "\n",
    "    elif country == 'TUR':\n",
    "        country_name = 'Turkey'\n",
    "\n",
    "    elif country == 'MDA':\n",
    "        country_name = 'Moldova'\n",
    "        \n",
    "    else:\n",
    "        country_name = pycountry.countries.get(alpha_3=country).name\n",
    "    \n",
    "    iso2 = pycountry.countries.get(alpha_3=country).alpha_2.lower()\n",
    "    row['country_name'] = country_name\n",
    "    row['display_name'] = f':{iso2}: {country_name}'\n",
    "    row['category'] = 'country'\n",
    "    \n",
    "    for group in groups:\n",
    "        \n",
    "        # % about the issue\n",
    "        share = subset[group].sum() / subset.shape[0] * 100\n",
    "        row[group] = round(share, 2)\n",
    "        \n",
    "    rows.append(row)\n",
    "        \n",
    "        \n",
    "    \n",
    "# All speeches\n",
    "row = {}\n",
    "row['country_name'] = \"All speeches\"\n",
    "row['display_name'] = \"All speeches\"\n",
    "row['category'] = 'all'\n",
    "\n",
    "\n",
    "for group in groups:\n",
    "\n",
    "    # % about the issue\n",
    "    share = df[group].sum() / df.shape[0] * 100\n",
    "    row[group] = round(share, 2)\n",
    "\n",
    "\n",
    "rows.append(row)"
   ]
  },
  {
   "cell_type": "code",
   "execution_count": null,
   "id": "ed2bf81a",
   "metadata": {},
   "outputs": [],
   "source": [
    "pd.DataFrame(rows).to_csv(\"../../viz-files/table.csv\", index=False)"
   ]
  },
  {
   "cell_type": "code",
   "execution_count": null,
   "id": "2092a485",
   "metadata": {},
   "outputs": [],
   "source": [
    "pd.DataFrame(rows)"
   ]
  },
  {
   "cell_type": "markdown",
   "id": "be3eb49b",
   "metadata": {},
   "source": [
    "#### Choropleth map with all countries"
   ]
  },
  {
   "cell_type": "code",
   "execution_count": null,
   "id": "dfa10634",
   "metadata": {},
   "outputs": [],
   "source": [
    "#df.sum().mean()"
   ]
  },
  {
   "cell_type": "code",
   "execution_count": null,
   "id": "404367f2",
   "metadata": {},
   "outputs": [],
   "source": [
    "choropleth_data = (df[df.columns[17:212]].sum() / df.shape[0] * 100).reset_index()"
   ]
  },
  {
   "cell_type": "code",
   "execution_count": null,
   "id": "6d522345",
   "metadata": {},
   "outputs": [],
   "source": [
    "choropleth_data = choropleth_data.rename(columns={'index': 'iso3', 0: 'share'})"
   ]
  },
  {
   "cell_type": "code",
   "execution_count": null,
   "id": "53a25c5b",
   "metadata": {},
   "outputs": [],
   "source": [
    "def get_country(iso3):\n",
    "    if iso3 == 'IRN':\n",
    "        country_name = 'Iran'\n",
    "\n",
    "    elif iso3 == 'RUS':\n",
    "        country_name = 'Russia'\n",
    "\n",
    "    elif iso3 == 'SYR':\n",
    "        country_name = 'Syria'\n",
    "\n",
    "    elif iso3 == 'COD':\n",
    "        country_name = 'DR Congo'\n",
    "\n",
    "    elif iso3 == 'TUR':\n",
    "        country_name = 'Turkey'\n",
    "\n",
    "    elif iso3 == 'MDA':\n",
    "        country_name = 'Moldova'\n",
    "\n",
    "    else:\n",
    "        country_name = pycountry.countries.get(alpha_3=iso3).name\n",
    "\n",
    "    return country_name"
   ]
  },
  {
   "cell_type": "code",
   "execution_count": null,
   "id": "b701b25f",
   "metadata": {},
   "outputs": [],
   "source": [
    "choropleth_data['country_name'] = choropleth_data.iso3.apply(get_country)"
   ]
  },
  {
   "cell_type": "code",
   "execution_count": null,
   "id": "d7cc6274",
   "metadata": {},
   "outputs": [],
   "source": [
    "choropleth_data.to_csv(\"../../viz-files/choropleth.csv\", index=False)"
   ]
  },
  {
   "cell_type": "code",
   "execution_count": null,
   "id": "70ec1523",
   "metadata": {},
   "outputs": [],
   "source": []
  }
 ],
 "metadata": {
  "kernelspec": {
   "display_name": "Python 3 (ipykernel)",
   "language": "python",
   "name": "python3"
  },
  "language_info": {
   "codemirror_mode": {
    "name": "ipython",
    "version": 3
   },
   "file_extension": ".py",
   "mimetype": "text/x-python",
   "name": "python",
   "nbconvert_exporter": "python",
   "pygments_lexer": "ipython3",
   "version": "3.10.12"
  }
 },
 "nbformat": 4,
 "nbformat_minor": 5
}
