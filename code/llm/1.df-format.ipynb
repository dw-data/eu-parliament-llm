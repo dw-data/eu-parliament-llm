{
 "cells": [
  {
   "cell_type": "code",
   "execution_count": 1,
   "id": "1a6187ab",
   "metadata": {},
   "outputs": [],
   "source": [
    "# This script will format the dataframe into a row per speech, so we can apply the language processing to it"
   ]
  },
  {
   "cell_type": "code",
   "execution_count": 2,
   "id": "43311536",
   "metadata": {},
   "outputs": [],
   "source": [
    "import glob\n",
    "import numpy as np\n",
    "import pandas as pd\n",
    "import re\n",
    "from tqdm.notebook import tqdm\n",
    "import warnings"
   ]
  },
  {
   "cell_type": "code",
   "execution_count": 3,
   "id": "ba433094",
   "metadata": {},
   "outputs": [],
   "source": [
    "# Supress future warning\n",
    "warnings.simplefilter(action='ignore', category=FutureWarning)"
   ]
  },
  {
   "cell_type": "code",
   "execution_count": 4,
   "id": "94ab412b",
   "metadata": {},
   "outputs": [],
   "source": [
    "def parse():\n",
    "    \n",
    "    # Get the files generated at the previous step\n",
    "    parsed_files = glob.glob(\"../output/csvs/parsed-*.csv\")\n",
    "    \n",
    "    # Makes a dataframe out of it\n",
    "    dfs = pd.DataFrame()\n",
    "    \n",
    "    # Using a loop instead of a quicker concat so I can see where eventual erros happen\n",
    "    for file in tqdm(parsed_files):\n",
    "        \n",
    "        # This is a badly formatted date in 2011\n",
    "        if file == '../output/csvs/parsed-7-2011-09-15.csv':\n",
    "            continue\n",
    "            \n",
    "            \n",
    "        # Gets date and term with regex\n",
    "        date = re.search(r'\\d{4}-\\d{2}-\\d{2}', file).group()\n",
    "        term = re.search(r'(\\d{1})-', file).group(1)\n",
    "        \n",
    "\n",
    "        # Reads the file that was downloaded\n",
    "        df = pd.read_csv(file, encoding='UTF-32')\n",
    "        # Renames columns\n",
    "        df.columns = ['speech', 'speaker_id', 'subject', 'speaker_span']\n",
    "        \n",
    "        # Adds extra info\n",
    "        df['fname'] = file\n",
    "        df['date'] = date\n",
    "        df['term'] = term\n",
    "        \n",
    "        # Adds to the existing df\n",
    "        dfs = dfs.append(df, ignore_index=True)\n",
    "\n",
    "    \n",
    "    return dfs"
   ]
  },
  {
   "cell_type": "code",
   "execution_count": 4,
   "id": "425f9e5c",
   "metadata": {},
   "outputs": [],
   "source": [
    "def main():\n",
    "    \n",
    "    df = parse()\n",
    "    \n",
    "    # Get only the actual speeches, removing procedural notes that are in the document.\n",
    "    df = df[~df.speaker_span.isna()].reset_index(drop=True)\n",
    "    \n",
    "    # Extract an year from the date\n",
    "    df['year'] = pd.to_datetime(df.date).dt.year\n",
    "    \n",
    "    # # How many were given in the last legislature?\n",
    "    print(f\"Speeches on the last legislature: {df[df.date >= '2019-06-02'].shape[0] / df.shape[0]}\")\n",
    "    \n",
    "    # Keep only the speeches by the most recent legislature\n",
    "    # df = df[pd.to_datetime(df.date) >= pd.to_datetime('2019-06-02')]\n",
    "    \n",
    "    # As for what a speech IS, let's say that it's anything longer than a tweet.\n",
    "    # This will aid on classification later (too short of a speech will lead to lack of context)\n",
    "    # And it has the advantage of getting rid of procedural things such as a Preisdent saying \"the session is open\"\n",
    "    df['speech_length_in_characters'] = df.speech.str.len()\n",
    "    \n",
    "    # This is how the distribution looks like – the tail is even longer, but I clipped the x axis\n",
    "    ax = df['speech_length_in_characters'].hist(bins=1000)\n",
    "    ax.set_xlim(-10, 5000)\n",
    "    \n",
    "    # There's a weird error with a single empty speech. Let's get rid of it.\n",
    "    df = df[~df.speech_length_in_characters.isna()].reset_index()\n",
    "    \n",
    "    # Filters to keep only what's long enough. Manual inspection showed me that \n",
    "    # most speeches with less characters than this were actually references to internal\n",
    "    # rules, regulations and procedures.\n",
    "    df = df[df['speech_length_in_characters'] >= 280]\n",
    "    \n",
    "    # Saves as CSV and feather\n",
    "    df.to_csv(\"../../output/processed/all-speeches-df.csv\", index=False)\n",
    "    df.to_feather(\"../../output/processed/all-speeches-df.feather\", index=False)\n",
    "\n",
    "    "
   ]
  },
  {
   "cell_type": "code",
   "execution_count": 5,
   "id": "afbb89a0",
   "metadata": {},
   "outputs": [],
   "source": [
    "if __name__ == '__main__':\n",
    "    df = main()"
   ]
  }
 ],
 "metadata": {
  "kernelspec": {
   "display_name": "Python 3 (ipykernel)",
   "language": "python",
   "name": "python3"
  },
  "language_info": {
   "codemirror_mode": {
    "name": "ipython",
    "version": 3
   },
   "file_extension": ".py",
   "mimetype": "text/x-python",
   "name": "python",
   "nbconvert_exporter": "python",
   "pygments_lexer": "ipython3",
   "version": "3.10.12"
  }
 },
 "nbformat": 4,
 "nbformat_minor": 5
}
