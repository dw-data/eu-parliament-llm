{
 "cells": [
  {
   "cell_type": "code",
   "execution_count": 1,
   "id": "9063e8d7",
   "metadata": {},
   "outputs": [],
   "source": [
    "import glob\n",
    "import pandas as pd\n",
    "import re"
   ]
  },
  {
   "cell_type": "code",
   "execution_count": 2,
   "id": "cceef27b",
   "metadata": {},
   "outputs": [],
   "source": [
    "from langchain_core.prompts import ChatPromptTemplate\n",
    "from langchain_core.pydantic_v1 import BaseModel, Field\n",
    "from langchain_openai import ChatOpenAI"
   ]
  },
  {
   "cell_type": "code",
   "execution_count": 3,
   "id": "badca7d0",
   "metadata": {},
   "outputs": [],
   "source": [
    "OPENAI_API_KEY = \"YOUR API KEY GOES HERE\"\n",
    "OPENAI_API_MODEL = 'gpt-3.5-turbo-0125'"
   ]
  },
  {
   "cell_type": "code",
   "execution_count": 5,
   "id": "8db92fe2",
   "metadata": {},
   "outputs": [],
   "source": [
    "# Get the classified files\n",
    "files = glob.glob(\"../../output/classified-llm/*.csv\")"
   ]
  },
  {
   "cell_type": "code",
   "execution_count": 6,
   "id": "9965c24f",
   "metadata": {},
   "outputs": [],
   "source": [
    "df = pd.concat([pd.read_csv(file) for file in files]).reset_index(drop=True)"
   ]
  },
  {
   "cell_type": "code",
   "execution_count": 7,
   "id": "f4ebed6b",
   "metadata": {},
   "outputs": [],
   "source": [
    "# Removes columns that we don't need\n",
    "# df = df.drop(columns=['Unnamed: 0.1', 'Unnamed: 0', 'level_0', 'index'])"
   ]
  },
  {
   "cell_type": "code",
   "execution_count": 8,
   "id": "87d4c06e",
   "metadata": {},
   "outputs": [
    {
     "data": {
      "text/plain": [
       "102379    1\n",
       "128680    1\n",
       "128682    1\n",
       "128683    1\n",
       "128684    1\n",
       "         ..\n",
       "324594    1\n",
       "324595    1\n",
       "324596    1\n",
       "324597    1\n",
       "161144    1\n",
       "Name: level_0, Length: 59377, dtype: int64"
      ]
     },
     "execution_count": 8,
     "metadata": {},
     "output_type": "execute_result"
    }
   ],
   "source": [
    "df['level_0'].value_counts()"
   ]
  },
  {
   "cell_type": "code",
   "execution_count": 9,
   "id": "a135702b",
   "metadata": {},
   "outputs": [],
   "source": [
    "# Let's take a look at all the retrieved tags\n",
    "\n",
    "# All tags\n",
    "all_tags = df.topic.str.split(',') # Split in the commas\n",
    "flattened_list = [item.strip() for sublist in all_tags for item in sublist] # Makes one big list\n",
    "all_tags_df = pd.DataFrame(flattened_list).rename(columns={0:'tag'}) # Dataframe with one row for wich time a tag appeared"
   ]
  },
  {
   "cell_type": "code",
   "execution_count": 10,
   "id": "dc4f5aca",
   "metadata": {},
   "outputs": [
    {
     "data": {
      "text/html": [
       "<div>\n",
       "<style scoped>\n",
       "    .dataframe tbody tr th:only-of-type {\n",
       "        vertical-align: middle;\n",
       "    }\n",
       "\n",
       "    .dataframe tbody tr th {\n",
       "        vertical-align: top;\n",
       "    }\n",
       "\n",
       "    .dataframe thead th {\n",
       "        text-align: right;\n",
       "    }\n",
       "</style>\n",
       "<table border=\"1\" class=\"dataframe\">\n",
       "  <thead>\n",
       "    <tr style=\"text-align: right;\">\n",
       "      <th></th>\n",
       "      <th>tag</th>\n",
       "    </tr>\n",
       "  </thead>\n",
       "  <tbody>\n",
       "    <tr>\n",
       "      <th>0</th>\n",
       "      <td>gender pay gap</td>\n",
       "    </tr>\n",
       "    <tr>\n",
       "      <th>1</th>\n",
       "      <td>equality</td>\n",
       "    </tr>\n",
       "    <tr>\n",
       "      <th>2</th>\n",
       "      <td>women's rights</td>\n",
       "    </tr>\n",
       "    <tr>\n",
       "      <th>3</th>\n",
       "      <td>gender equality</td>\n",
       "    </tr>\n",
       "    <tr>\n",
       "      <th>4</th>\n",
       "      <td>work-life balance</td>\n",
       "    </tr>\n",
       "    <tr>\n",
       "      <th>...</th>\n",
       "      <td>...</td>\n",
       "    </tr>\n",
       "    <tr>\n",
       "      <th>186090</th>\n",
       "      <td>climate</td>\n",
       "    </tr>\n",
       "    <tr>\n",
       "      <th>186091</th>\n",
       "      <td>water management</td>\n",
       "    </tr>\n",
       "    <tr>\n",
       "      <th>186092</th>\n",
       "      <td>international relations</td>\n",
       "    </tr>\n",
       "    <tr>\n",
       "      <th>186093</th>\n",
       "      <td>climate</td>\n",
       "    </tr>\n",
       "    <tr>\n",
       "      <th>186094</th>\n",
       "      <td>water management</td>\n",
       "    </tr>\n",
       "  </tbody>\n",
       "</table>\n",
       "<p>186095 rows × 1 columns</p>\n",
       "</div>"
      ],
      "text/plain": [
       "                            tag\n",
       "0                gender pay gap\n",
       "1                      equality\n",
       "2                women's rights\n",
       "3               gender equality\n",
       "4             work-life balance\n",
       "...                         ...\n",
       "186090                  climate\n",
       "186091         water management\n",
       "186092  international relations\n",
       "186093                  climate\n",
       "186094         water management\n",
       "\n",
       "[186095 rows x 1 columns]"
      ]
     },
     "metadata": {},
     "output_type": "display_data"
    }
   ],
   "source": [
    "display(all_tags_df)"
   ]
  },
  {
   "cell_type": "code",
   "execution_count": 11,
   "id": "d0215a59",
   "metadata": {},
   "outputs": [
    {
     "data": {
      "text/plain": [
       "186095"
      ]
     },
     "execution_count": 11,
     "metadata": {},
     "output_type": "execute_result"
    }
   ],
   "source": [
    "# Total tags applied\n",
    "all_tags_df.tag.shape[0]"
   ]
  },
  {
   "cell_type": "code",
   "execution_count": 12,
   "id": "cedbe096",
   "metadata": {},
   "outputs": [
    {
     "data": {
      "text/plain": [
       "7942"
      ]
     },
     "execution_count": 12,
     "metadata": {},
     "output_type": "execute_result"
    }
   ],
   "source": [
    "# Total tags applied\n",
    "all_tags_df.tag.unique().shape[0]"
   ]
  },
  {
   "cell_type": "code",
   "execution_count": 13,
   "id": "cb86b15b",
   "metadata": {},
   "outputs": [
    {
     "data": {
      "text/plain": [
       "democracy                     21893\n",
       "war                           11995\n",
       "finance                       11664\n",
       "climate                        9314\n",
       "migration                      7930\n",
       "                              ...  \n",
       "barriers removal                  1\n",
       "market services                   1\n",
       "European arrest warrant           1\n",
       "digital crimes                    1\n",
       "water resources management        1\n",
       "Name: tag, Length: 7942, dtype: int64"
      ]
     },
     "metadata": {},
     "output_type": "display_data"
    },
    {
     "data": {
      "text/plain": [
       "democracy                     0.117644\n",
       "war                           0.064456\n",
       "finance                       0.062678\n",
       "climate                       0.050050\n",
       "migration                     0.042613\n",
       "                                ...   \n",
       "barriers removal              0.000005\n",
       "market services               0.000005\n",
       "European arrest warrant       0.000005\n",
       "digital crimes                0.000005\n",
       "water resources management    0.000005\n",
       "Name: tag, Length: 7942, dtype: float64"
      ]
     },
     "metadata": {},
     "output_type": "display_data"
    }
   ],
   "source": [
    "# That seems like a disproportionate ammount of tags.\n",
    "# Some of them might be applying to one single speech.\n",
    "# Let's take a look at the value counts.\n",
    "display(all_tags_df.tag.value_counts(), all_tags_df.tag.value_counts(normalize=True))"
   ]
  },
  {
   "cell_type": "code",
   "execution_count": 14,
   "id": "a9bb95b1",
   "metadata": {},
   "outputs": [],
   "source": [
    "# The top entries concentrate most of the speeches.\n",
    "# Let's see exactly how many."
   ]
  },
  {
   "cell_type": "code",
   "execution_count": 15,
   "id": "b72be3c8",
   "metadata": {},
   "outputs": [],
   "source": [
    "# Counts the tags\n",
    "value_counts = all_tags_df.tag.value_counts()\n",
    "\n",
    "# Get the 100 most common ones\n",
    "frequent_tags = value_counts.head(100).index"
   ]
  },
  {
   "cell_type": "code",
   "execution_count": 16,
   "id": "d8ea476e",
   "metadata": {},
   "outputs": [
    {
     "data": {
      "text/plain": [
       "Index(['democracy', 'war', 'finance', 'climate', 'migration', 'technology',\n",
       "       'parliament procedures', 'human rights', 'industry', 'economy',\n",
       "       'agriculture', 'innovation', 'elections', 'environment', 'politics',\n",
       "       'European Union', 'health', 'energy', 'trade', 'gender equality',\n",
       "       'international relations', 'education', 'security', 'corruption',\n",
       "       'healthcare', 'rule of law', 'women's rights', 'solidarity',\n",
       "       'legislation', 'sustainability', 'poverty', 'pandemic', 'cooperation',\n",
       "       'Brexit', 'terrorism', 'diplomacy', 'transparency', 'discrimination',\n",
       "       'employment', 'justice', 'EU Parliament', 'geopolitics', 'biodiversity',\n",
       "       'peace', 'equality', 'COVID-19', 'sanctions', 'violence against women',\n",
       "       'climate change', 'religion', 'youth', 'culture', 'children's rights',\n",
       "       'Russia', 'foreign policy', 'EU policies', 'labor rights', 'defense',\n",
       "       'media freedom', 'Ukraine', 'EU enlargement', 'tourism',\n",
       "       'transportation', 'vaccines', 'food security', 'infrastructure',\n",
       "       'China', 'humanitarian aid', 'vaccination', 'social issues',\n",
       "       'international cooperation', 'renewable energy', 'journalism',\n",
       "       'animal welfare', 'violence', 'disinformation', 'Europe', 'racism',\n",
       "       'freedom of speech', 'development', 'research', 'inequality', 'EU',\n",
       "       'media', 'sovereignty', 'social rights', 'law', 'governance', 'history',\n",
       "       'extremism', 'LGBT rights', 'freedom', 'energy crisis', 'social policy',\n",
       "       'freedom of expression', 'EU institutions', 'foreign affairs',\n",
       "       'mental health', 'social justice', 'abortion'],\n",
       "      dtype='object')"
      ]
     },
     "execution_count": 16,
     "metadata": {},
     "output_type": "execute_result"
    }
   ],
   "source": [
    "# Taking a look at the substrings. Let's remove the mentions to specific\n",
    "# places and stick with general themes and issues.\n",
    "frequent_tags"
   ]
  },
  {
   "cell_type": "code",
   "execution_count": 17,
   "id": "767d36e4",
   "metadata": {},
   "outputs": [],
   "source": [
    "frequent_tags = frequent_tags.drop(['European Union', 'Russia', 'Ukraine', 'China', 'Europe', 'EU'])"
   ]
  },
  {
   "cell_type": "code",
   "execution_count": 18,
   "id": "f7925e49",
   "metadata": {},
   "outputs": [
    {
     "data": {
      "text/plain": [
       "Index(['democracy', 'war', 'finance', 'climate', 'migration', 'technology',\n",
       "       'parliament procedures', 'human rights', 'industry', 'economy',\n",
       "       'agriculture', 'innovation', 'elections', 'environment', 'politics',\n",
       "       'health', 'energy', 'trade', 'gender equality',\n",
       "       'international relations', 'education', 'security', 'corruption',\n",
       "       'healthcare', 'rule of law', 'women's rights', 'solidarity',\n",
       "       'legislation', 'sustainability', 'poverty', 'pandemic', 'cooperation',\n",
       "       'Brexit', 'terrorism', 'diplomacy', 'transparency', 'discrimination',\n",
       "       'employment', 'justice', 'EU Parliament', 'geopolitics', 'biodiversity',\n",
       "       'peace', 'equality', 'COVID-19', 'sanctions', 'violence against women',\n",
       "       'climate change', 'religion', 'youth', 'culture', 'children's rights',\n",
       "       'foreign policy', 'EU policies', 'labor rights', 'defense',\n",
       "       'media freedom', 'EU enlargement', 'tourism', 'transportation',\n",
       "       'vaccines', 'food security', 'infrastructure', 'humanitarian aid',\n",
       "       'vaccination', 'social issues', 'international cooperation',\n",
       "       'renewable energy', 'journalism', 'animal welfare', 'violence',\n",
       "       'disinformation', 'racism', 'freedom of speech', 'development',\n",
       "       'research', 'inequality', 'media', 'sovereignty', 'social rights',\n",
       "       'law', 'governance', 'history', 'extremism', 'LGBT rights', 'freedom',\n",
       "       'energy crisis', 'social policy', 'freedom of expression',\n",
       "       'EU institutions', 'foreign affairs', 'mental health', 'social justice',\n",
       "       'abortion'],\n",
       "      dtype='object')"
      ]
     },
     "execution_count": 18,
     "metadata": {},
     "output_type": "execute_result"
    }
   ],
   "source": [
    "frequent_tags"
   ]
  },
  {
   "cell_type": "code",
   "execution_count": 19,
   "id": "c9334684",
   "metadata": {},
   "outputs": [
    {
     "data": {
      "text/plain": [
       "True     0.984034\n",
       "False    0.015966\n",
       "Name: contains_string, dtype: float64"
      ]
     },
     "execution_count": 19,
     "metadata": {},
     "output_type": "execute_result"
    }
   ],
   "source": [
    "# On the original dataframe, select all the speeches that have at least one of this tags\n",
    "pattern = \"|\".join(frequent_tags)\n",
    "\n",
    "# Use str.contains to check if any of the strings are present\n",
    "df['contains_string'] = df['topic'].str.contains(pattern, case=False, regex=True)\n",
    "\n",
    "# How many speeches have at least one tag that is among the most common?\n",
    "df['contains_string'].value_counts(normalize=True)\n",
    "\n",
    "# 98.5% of the speeches contain at least one this tags!!!\n",
    "# Let's look at the ones that doesn't."
   ]
  },
  {
   "cell_type": "code",
   "execution_count": 20,
   "id": "c542e11b",
   "metadata": {},
   "outputs": [],
   "source": [
    "# Overall, the share of English speeches in the group \n",
    "# for which we DON'T have data is nearly 10% LARGER to the one we have\n",
    "# data for. This could show some bias: the classifier has\n",
    "# more problems dealing with foreign languages."
   ]
  },
  {
   "cell_type": "code",
   "execution_count": 21,
   "id": "6a143dbc",
   "metadata": {
    "scrolled": true
   },
   "outputs": [
    {
     "data": {
      "text/plain": [
       "english                             0.272365\n",
       "german                              0.111417\n",
       "french                              0.104349\n",
       "spanish                             0.088826\n",
       "italian                             0.065892\n",
       "polish                              0.057574\n",
       "portuguese                          0.043626\n",
       "dutch                               0.032090\n",
       "romanian                            0.031851\n",
       "greek                               0.025039\n",
       "czech                               0.021975\n",
       "swedish                             0.020777\n",
       "hungarian                           0.020692\n",
       "croatian                            0.019323\n",
       "slovak                              0.015643\n",
       "bulgarian                           0.015044\n",
       "finnish                             0.011279\n",
       "danish                              0.010782\n",
       "slovenian                           0.010680\n",
       "lithuanian                          0.006743\n",
       "maltese                             0.004775\n",
       "estonian                            0.003645\n",
       "latvian                             0.003012\n",
       "irish                               0.001711\n",
       "multilingual                        0.000719\n",
       "german, french                      0.000068\n",
       "latvian, french, german, english    0.000017\n",
       "german, greek                       0.000017\n",
       "french, greek                       0.000017\n",
       "french, german, english             0.000017\n",
       "english, french                     0.000017\n",
       "french, dutch                       0.000017\n",
       "Name: language, dtype: float64"
      ]
     },
     "execution_count": 21,
     "metadata": {},
     "output_type": "execute_result"
    }
   ],
   "source": [
    "df[df.contains_string].language.str.lower().value_counts(normalize=True)"
   ]
  },
  {
   "cell_type": "code",
   "execution_count": 22,
   "id": "ae9f9d2d",
   "metadata": {},
   "outputs": [
    {
     "data": {
      "text/plain": [
       "english       0.359705\n",
       "spanish       0.083333\n",
       "german        0.075949\n",
       "french        0.075949\n",
       "italian       0.056962\n",
       "polish        0.047468\n",
       "dutch         0.040084\n",
       "portuguese    0.039030\n",
       "croatian      0.032700\n",
       "romanian      0.032700\n",
       "czech         0.025316\n",
       "greek         0.022152\n",
       "bulgarian     0.018987\n",
       "hungarian     0.017932\n",
       "swedish       0.014768\n",
       "slovenian     0.011603\n",
       "danish        0.011603\n",
       "slovak        0.011603\n",
       "finnish       0.005274\n",
       "latvian       0.004219\n",
       "estonian      0.004219\n",
       "maltese       0.003165\n",
       "lithuanian    0.003165\n",
       "irish         0.002110\n",
       "Name: language, dtype: float64"
      ]
     },
     "execution_count": 22,
     "metadata": {},
     "output_type": "execute_result"
    }
   ],
   "source": [
    "df[~df.contains_string].language.str.lower().value_counts(normalize=True)"
   ]
  },
  {
   "cell_type": "code",
   "execution_count": 23,
   "id": "ab407f33",
   "metadata": {},
   "outputs": [
    {
     "data": {
      "text/plain": [
       "bulgarian                           2.006689\n",
       "croatian                            2.672414\n",
       "czech                               1.834862\n",
       "danish                              1.716069\n",
       "dutch                               1.986409\n",
       "english                             2.097816\n",
       "english, french                          NaN\n",
       "estonian                            1.843318\n",
       "finnish                             0.753012\n",
       "french                              1.167126\n",
       "french, dutch                            NaN\n",
       "french, german, english                  NaN\n",
       "french, greek                            NaN\n",
       "german                              1.093892\n",
       "german, french                           NaN\n",
       "german, greek                            NaN\n",
       "greek                               1.415094\n",
       "hungarian                           1.386623\n",
       "irish                               1.960784\n",
       "italian                             1.383197\n",
       "latvian                             2.222222\n",
       "latvian, french, german, english         NaN\n",
       "lithuanian                          0.755668\n",
       "maltese                             1.063830\n",
       "multilingual                             NaN\n",
       "polish                              1.320035\n",
       "portuguese                          1.430781\n",
       "romanian                            1.638478\n",
       "slovak                              1.189189\n",
       "slovenian                           1.732283\n",
       "spanish                             1.499336\n",
       "swedish                             1.140065\n",
       "Name: language, dtype: float64"
      ]
     },
     "execution_count": 23,
     "metadata": {},
     "output_type": "execute_result"
    }
   ],
   "source": [
    "# Share of speeches by language that didn't get any valid tags\n",
    "(df[~df.contains_string].language.str.lower().value_counts() / \\\n",
    "df.language.str.lower().value_counts()) * 100\n",
    "\n",
    "# No language was hugely affected"
   ]
  },
  {
   "cell_type": "code",
   "execution_count": 25,
   "id": "caa4a036",
   "metadata": {},
   "outputs": [],
   "source": [
    "# Removes entries with invalid strings\n",
    "df = df[df.contains_string]"
   ]
  },
  {
   "cell_type": "code",
   "execution_count": 26,
   "id": "b05b12b0",
   "metadata": {},
   "outputs": [],
   "source": [
    "# Let's create a regex pattern with capture groups to get the frequent tags that were applied into each.\n",
    "pattern = '|'.join(f'(?:{substring})' for substring in frequent_tags)"
   ]
  },
  {
   "cell_type": "code",
   "execution_count": 27,
   "id": "55a6ce87",
   "metadata": {},
   "outputs": [],
   "source": [
    "def find_substrings(text, pattern):\n",
    "    matches = re.findall(pattern, text, re.IGNORECASE)\n",
    "    return ', '.join(matches)"
   ]
  },
  {
   "cell_type": "code",
   "execution_count": 28,
   "id": "4eaf2b7b",
   "metadata": {},
   "outputs": [],
   "source": [
    "# Apply the function to the DataFrame\n",
    "df['valid_tags'] = df['topic'].apply(lambda x: find_substrings(x, pattern))"
   ]
  },
  {
   "cell_type": "code",
   "execution_count": 29,
   "id": "c4a33a9d",
   "metadata": {},
   "outputs": [],
   "source": [
    "# Clean's data up for further processing\n",
    "df = df[['level_0', 'speech', 'date', 'term', 'year', 'speech_length_in_characters', 'language', 'valid_tags']]"
   ]
  },
  {
   "cell_type": "code",
   "execution_count": 33,
   "id": "2710b45a",
   "metadata": {},
   "outputs": [],
   "source": [
    "df = df.reset_index(drop=True)"
   ]
  },
  {
   "cell_type": "code",
   "execution_count": 34,
   "id": "e00e3ed0",
   "metadata": {},
   "outputs": [],
   "source": [
    "# Saves\n",
    "df.to_feather(\"../../output/llm-validated/validated-data.feather\")"
   ]
  },
  {
   "cell_type": "code",
   "execution_count": null,
   "id": "8a49505a",
   "metadata": {},
   "outputs": [],
   "source": [
    "frequent_tags"
   ]
  },
  {
   "cell_type": "code",
   "execution_count": null,
   "id": "3e9a3898",
   "metadata": {},
   "outputs": [],
   "source": []
  }
 ],
 "metadata": {
  "kernelspec": {
   "display_name": "Python 3 (ipykernel)",
   "language": "python",
   "name": "python3"
  },
  "language_info": {
   "codemirror_mode": {
    "name": "ipython",
    "version": 3
   },
   "file_extension": ".py",
   "mimetype": "text/x-python",
   "name": "python",
   "nbconvert_exporter": "python",
   "pygments_lexer": "ipython3",
   "version": "3.10.12"
  }
 },
 "nbformat": 4,
 "nbformat_minor": 5
}
