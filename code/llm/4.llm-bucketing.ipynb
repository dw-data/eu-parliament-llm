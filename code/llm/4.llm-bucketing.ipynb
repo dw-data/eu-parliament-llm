{
 "cells": [
  {
   "cell_type": "code",
   "execution_count": 1,
   "id": "903d5f32",
   "metadata": {},
   "outputs": [],
   "source": [
    "# In this final step of processing, we will bucket the valid tags into\n",
    "# broader groups. To do so, we used ChatGPT 4o on the browser,\n",
    "# manually reviewed the result and made manual adjustments."
   ]
  },
  {
   "cell_type": "code",
   "execution_count": 2,
   "id": "316757b4",
   "metadata": {},
   "outputs": [],
   "source": [
    "import pandas as pd\n",
    "import matplotlib.pyplot as plt\n",
    "import math"
   ]
  },
  {
   "cell_type": "code",
   "execution_count": 3,
   "id": "9285e060",
   "metadata": {},
   "outputs": [],
   "source": [
    "frequent_tags = ['democracy', 'war', 'finance', 'climate', 'migration', 'technology',\n",
    "       'parliament procedures', 'human rights', 'industry', 'economy',\n",
    "       'agriculture', 'innovation', 'elections', 'environment', 'politics',\n",
    "       'health', 'energy', 'trade', 'gender equality',\n",
    "       'international relations', 'education', 'security', 'corruption',\n",
    "       'healthcare', 'rule of law', \"women's rights\", 'solidarity',\n",
    "       'legislation', 'sustainability', 'poverty', 'pandemic', 'cooperation',\n",
    "       'Brexit', 'terrorism', 'diplomacy', 'transparency', 'discrimination',\n",
    "       'employment', 'justice', 'EU Parliament', 'geopolitics', 'biodiversity',\n",
    "       'peace', 'equality', 'COVID-19', 'sanctions', 'violence against women',\n",
    "       'climate change', 'religion', 'youth', 'culture', \"children's rights\",\n",
    "       'foreign policy', 'EU policies', 'labor rights', 'defense',\n",
    "       'media freedom', 'EU enlargement', 'tourism', 'transportation',\n",
    "       'vaccines', 'food security', 'infrastructure', 'humanitarian aid',\n",
    "       'vaccination', 'social issues', 'international cooperation',\n",
    "       'renewable energy', 'journalism', 'animal welfare', 'violence',\n",
    "       'disinformation', 'racism', 'freedom of speech', 'development',\n",
    "       'research', 'inequality', 'media', 'sovereignty', 'social rights',\n",
    "       'law', 'governance', 'history', 'extremism', 'LGBT rights', 'freedom',\n",
    "       'energy crisis', 'social policy', 'freedom of expression',\n",
    "       'EU institutions', 'foreign affairs', 'mental health', 'social justice',\n",
    "       'abortion']"
   ]
  },
  {
   "cell_type": "code",
   "execution_count": 4,
   "id": "472831aa",
   "metadata": {},
   "outputs": [],
   "source": [
    "broad_groups = {\n",
    "    \"Parliament issues and procedures\": [\n",
    "        'parliament procedures', \"EU Parliament\", 'legislation',\n",
    "    ],\n",
    "    \"Democracy and Governance\": [\n",
    "        'democracy', 'elections', 'politics', 'rule of law',\n",
    "        'corruption', 'transparency', 'justice',\n",
    "        'EU policies', 'EU institutions', 'governance', \"law\"\n",
    "    ],\n",
    "    \"War and Security\": [\n",
    "        'war', 'security', 'terrorism', \n",
    "        'sanctions', 'defense', 'peace',\n",
    "    ],\n",
    "    \"International Relations and Diplomacy\": [\n",
    "        'foreign policy', 'diplomacy', 'geopolitics', 'foreign affairs', \n",
    "        'Brexit', 'international relations', 'sovereignty', \"cooperation\", \"EU enlargement\",\n",
    "        \"international cooperation\"\n",
    "        \n",
    "    ],\n",
    "    \"Economy, Finance and Infrastructure\": [\n",
    "        'finance', 'economy', 'trade', 'industry', 'employment', 'poverty', \n",
    "        'inequality', 'tourism', 'infrastructure', \"transportation\",\n",
    "        'agriculture', 'energy', 'energy crisis',\n",
    "    ],\n",
    "    \"Environment and Climate\": [\n",
    "        'climate', 'environment', 'sustainability', 'biodiversity', 'climate change',\n",
    "        'renewable energy', 'animal welfare'\n",
    "    ],\n",
    "    \"Health\": [\n",
    "        'health', 'healthcare', 'pandemic', 'COVID-19', 'vaccines', 'vaccination',\n",
    "        'mental health', 'abortion'\n",
    "    ],\n",
    "    \"Technology and Innovation\": [\n",
    "        'technology', 'innovation', 'research', 'development'\n",
    "    ],\n",
    "    \"Human Rights, Freedoms and Social Issues\": [\n",
    "        'human rights', 'freedom of speech', 'freedom of expression', 'media freedom',\n",
    "        'journalism', 'media', 'disinformation', 'violence',\n",
    "        'violence against women', 'racism', 'freedom', 'social rights',\n",
    "        'equality', 'social issues', 'social policy', 'social justice',\n",
    "        'poverty', 'discrimination', 'solidarity', \"women's rights\", \n",
    "        'gender equality', \"children's rights\", \"youth\", \"LGBT rights\", 'food security',\n",
    "        \"migration\", \"religion\", \"labor rights\", \"humanitarian aid\", \"extremism\",\n",
    "        \"culture\", \"education\", \"history\"\n",
    "    ]\n",
    "}\n"
   ]
  },
  {
   "cell_type": "code",
   "execution_count": 5,
   "id": "ad99ec10",
   "metadata": {},
   "outputs": [],
   "source": [
    "# Extract all lists from the dictionary\n",
    "lists = broad_groups.values()\n",
    "\n",
    "# Flatten the lists so we can check if all the tags are present\n",
    "flattened_list = [item for sublist in lists for item in sublist]"
   ]
  },
  {
   "cell_type": "code",
   "execution_count": 6,
   "id": "f47f0a91",
   "metadata": {},
   "outputs": [
    {
     "data": {
      "text/plain": [
       "[]"
      ]
     },
     "execution_count": 6,
     "metadata": {},
     "output_type": "execute_result"
    }
   ],
   "source": [
    "# All items on the dictionary are on the frequent tags\n",
    "[item for item in flattened_list if item not in frequent_tags]"
   ]
  },
  {
   "cell_type": "code",
   "execution_count": 7,
   "id": "1a2f333b",
   "metadata": {},
   "outputs": [
    {
     "data": {
      "text/plain": [
       "[]"
      ]
     },
     "execution_count": 7,
     "metadata": {},
     "output_type": "execute_result"
    }
   ],
   "source": [
    "# All items on the frequent tags are on my dictionary\n",
    "[item for item in frequent_tags if item not in flattened_list]"
   ]
  },
  {
   "cell_type": "code",
   "execution_count": 8,
   "id": "2d76ce4c",
   "metadata": {},
   "outputs": [],
   "source": [
    "# Now, let's map this classification into our bigger dataset\n",
    "df = pd.read_feather(\"../../output/llm-validated/validated-data.feather\")"
   ]
  },
  {
   "cell_type": "code",
   "execution_count": 9,
   "id": "d398294c",
   "metadata": {},
   "outputs": [],
   "source": [
    "def contains_keywords(tags, keywords):\n",
    "    tags_list = [tag.strip().lower() for tag in tags.split(',')]\n",
    "    keywords = [keyword.strip().lower() for keyword in keywords]\n",
    "    return any(keyword in tags_list for keyword in keywords)\n",
    "\n",
    "# Add a column for each broad group\n",
    "for group, keywords in broad_groups.items():\n",
    "    df[group] = df['valid_tags'].apply(lambda x: contains_keywords(str(x), keywords))"
   ]
  },
  {
   "cell_type": "code",
   "execution_count": 10,
   "id": "7f9cc893",
   "metadata": {},
   "outputs": [],
   "source": [
    "df.to_feather(\"../../output/llm-bucketed/bucketed_valid_data.feather\")"
   ]
  }
 ],
 "metadata": {
  "kernelspec": {
   "display_name": "Python 3 (ipykernel)",
   "language": "python",
   "name": "python3"
  },
  "language_info": {
   "codemirror_mode": {
    "name": "ipython",
    "version": 3
   },
   "file_extension": ".py",
   "mimetype": "text/x-python",
   "name": "python",
   "nbconvert_exporter": "python",
   "pygments_lexer": "ipython3",
   "version": "3.10.12"
  }
 },
 "nbformat": 4,
 "nbformat_minor": 5
}
