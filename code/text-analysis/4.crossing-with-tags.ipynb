{
 "cells": [
  {
   "cell_type": "code",
   "execution_count": 1,
   "id": "238ab85f",
   "metadata": {},
   "outputs": [],
   "source": [
    "import glob\n",
    "import pandas as pd"
   ]
  },
  {
   "cell_type": "code",
   "execution_count": 2,
   "id": "129b0332",
   "metadata": {},
   "outputs": [],
   "source": [
    "# # Matches found in all speeches\n",
    "# files = glob.glob(\"../../output/countries-matching/*.feather\")\n",
    "# # Reads and concatenates the files for each match\n",
    "# matches = pd.concat([pd.read_feather(f) for f in files], axis=1)"
   ]
  },
  {
   "cell_type": "code",
   "execution_count": 3,
   "id": "1d745965",
   "metadata": {},
   "outputs": [],
   "source": [
    "# All speeches\n",
    "all_speeches = pd.read_feather(\"../../output/processed/all-speeches-df.feather\")\n",
    "all_speeches = all_speeches.sort_values(by='level_0')"
   ]
  },
  {
   "cell_type": "code",
   "execution_count": 4,
   "id": "345d2e47",
   "metadata": {},
   "outputs": [],
   "source": [
    "# Matches\n",
    "matches = pd.read_feather(\"../../output/countries-matching-iso/isos.feather\")"
   ]
  },
  {
   "cell_type": "code",
   "execution_count": 5,
   "id": "e989331e",
   "metadata": {},
   "outputs": [],
   "source": [
    "# Classified speeches\n",
    "valid_speeches = pd.read_feather(\"../../output/llm-bucketed/bucketed_valid_data.feather\")\n",
    "valid_speeches = valid_speeches.sort_values(by='level_0')"
   ]
  },
  {
   "cell_type": "code",
   "execution_count": 6,
   "id": "eaa01228",
   "metadata": {},
   "outputs": [],
   "source": [
    "# Add level 0 to matches\n",
    "matches = pd.concat([all_speeches[['level_0']], matches], axis=1)"
   ]
  },
  {
   "cell_type": "code",
   "execution_count": 7,
   "id": "94043c2e",
   "metadata": {},
   "outputs": [],
   "source": [
    "# Keeps only the matches that are valid\n",
    "matches = matches[matches.level_0.isin(valid_speeches.level_0)]"
   ]
  },
  {
   "cell_type": "code",
   "execution_count": 8,
   "id": "aa07e089",
   "metadata": {},
   "outputs": [],
   "source": [
    "df = valid_speeches.merge(matches, on='level_0', suffixes=['', '__y'])"
   ]
  },
  {
   "cell_type": "code",
   "execution_count": 9,
   "id": "7d318b23",
   "metadata": {},
   "outputs": [],
   "source": [
    "df = df.drop(columns=[col for col in df.columns if '__y' in col])"
   ]
  },
  {
   "cell_type": "code",
   "execution_count": 12,
   "id": "eaefc04c",
   "metadata": {},
   "outputs": [],
   "source": [
    "df.to_feather(\"../../output/for-analysis.feather\")"
   ]
  },
  {
   "cell_type": "code",
   "execution_count": 173,
   "id": "3b91a595",
   "metadata": {},
   "outputs": [],
   "source": [
    "groups = ['Parliament issues and procedures',\n",
    " 'Democracy and Governance',\n",
    " 'War and Security',\n",
    " 'International Relations and Diplomacy',\n",
    " 'Economy, Finance and Infrastructure',\n",
    " 'Environment and Climate',\n",
    " 'Health',\n",
    " 'Technology and Innovation',\n",
    " 'Human Rights, Freedoms and Social Issues']"
   ]
  },
  {
   "cell_type": "code",
   "execution_count": 188,
   "id": "5d22b3f3",
   "metadata": {},
   "outputs": [
    {
     "name": "stdout",
     "output_type": "stream",
     "text": [
      "RUS\n",
      "Of all speeches that mentioned RUS, 3% touched on Parliament issues and procedures\n",
      "Of all speeches that mentioned RUS, 64% touched on Democracy and Governance\n",
      "Of all speeches that mentioned RUS, 75% touched on War and Security\n",
      "Of all speeches that mentioned RUS, 19% touched on International Relations and Diplomacy\n",
      "Of all speeches that mentioned RUS, 36% touched on Economy, Finance and Infrastructure\n",
      "Of all speeches that mentioned RUS, 15% touched on Environment and Climate\n",
      "Of all speeches that mentioned RUS, 2% touched on Health\n",
      "Of all speeches that mentioned RUS, 11% touched on Technology and Innovation\n",
      "Of all speeches that mentioned RUS, 34% touched on Human Rights, Freedoms and Social Issues\n"
     ]
    }
   ],
   "source": [
    "countries = ['']\n",
    "for country in countries:\n",
    "    \n",
    "    print(country)\n",
    "    subset = df[df[country]]\n",
    "    \n",
    "    for group in groups:\n",
    "        \n",
    "        # % about the issue\n",
    "        share = subset[group].sum() / subset.shape[0] * 100\n",
    "\n",
    "        print(f\"Of all speeches that mentioned {country}, {round(share)}% touched on {group}\")\n",
    "    "
   ]
  },
  {
   "cell_type": "code",
   "execution_count": 185,
   "id": "93c3ca0d",
   "metadata": {},
   "outputs": [
    {
     "name": "stdout",
     "output_type": "stream",
     "text": [
      "BRA\n",
      "Of all speeches about BRA, 3% touched on Parliament issues and procedures\n",
      "Of all speeches about BRA, 38% touched on Democracy and Governance\n",
      "Of all speeches about BRA, 21% touched on War and Security\n",
      "Of all speeches about BRA, 17% touched on International Relations and Diplomacy\n",
      "Of all speeches about BRA, 47% touched on Economy, Finance and Infrastructure\n",
      "Of all speeches about BRA, 62% touched on Environment and Climate\n",
      "Of all speeches about BRA, 7% touched on Health\n",
      "Of all speeches about BRA, 12% touched on Technology and Innovation\n",
      "Of all speeches about BRA, 22% touched on Human Rights, Freedoms and Social Issues\n"
     ]
    }
   ],
   "source": [
    "countries = ['BRA']\n",
    "for country in countries:\n",
    "    \n",
    "    print(country)\n",
    "    subset = df[df[country]]\n",
    "    \n",
    "    for group in groups:\n",
    "        \n",
    "        # % about the issue\n",
    "        share = subset[group].sum() / subset.shape[0] * 100\n",
    "\n",
    "        print(f\"Of all speeches about {country}, {round(share)}% touched on {group}\")\n",
    "    "
   ]
  },
  {
   "cell_type": "code",
   "execution_count": 186,
   "id": "a78e9bc2",
   "metadata": {},
   "outputs": [
    {
     "name": "stdout",
     "output_type": "stream",
     "text": [
      "RUS\n",
      "Of all speeches about RUS, 3.2524049473202017 touched on Parliament issues and procedures\n",
      "Of all speeches about RUS, 64.33806688043975 touched on Democracy and Governance\n",
      "Of all speeches about RUS, 74.59917544663307 touched on War and Security\n",
      "Of all speeches about RUS, 18.827301878149335 touched on International Relations and Diplomacy\n",
      "Of all speeches about RUS, 36.12001832340815 touched on Economy, Finance and Infrastructure\n",
      "Of all speeches about RUS, 15.002290426019242 touched on Environment and Climate\n",
      "Of all speeches about RUS, 2.0842876775080166 touched on Health\n",
      "Of all speeches about RUS, 10.742098030233624 touched on Technology and Innovation\n",
      "Of all speeches about RUS, 33.760879523591385 touched on Human Rights, Freedoms and Social Issues\n"
     ]
    }
   ],
   "source": [
    "countries = ['RUS']\n",
    "for country in countries:\n",
    "    \n",
    "    print(country)\n",
    "    subset = df[df[country]]\n",
    "    \n",
    "    for group in groups:\n",
    "        \n",
    "        # % about the issue\n",
    "        share = subset[group].sum() / subset.shape[0] * 100\n",
    "\n",
    "        print(f\"Of all speeches about {country}, {share} touched on {group}\")\n",
    "    "
   ]
  },
  {
   "cell_type": "code",
   "execution_count": null,
   "id": "eceb2fb6",
   "metadata": {},
   "outputs": [],
   "source": []
  }
 ],
 "metadata": {
  "kernelspec": {
   "display_name": "Python 3 (ipykernel)",
   "language": "python",
   "name": "python3"
  },
  "language_info": {
   "codemirror_mode": {
    "name": "ipython",
    "version": 3
   },
   "file_extension": ".py",
   "mimetype": "text/x-python",
   "name": "python",
   "nbconvert_exporter": "python",
   "pygments_lexer": "ipython3",
   "version": "3.10.12"
  }
 },
 "nbformat": 4,
 "nbformat_minor": 5
}
